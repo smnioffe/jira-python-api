{
 "cells": [
  {
   "cell_type": "code",
   "execution_count": null,
   "metadata": {},
   "outputs": [],
   "source": [
    "import jira.client\n",
    "from jira.client import JIRA\n",
    "import dateutil.parser\n",
    "from datetime import datetime, timedelta\n",
    "import time\n",
    "\n",
    "import config\n",
    "\n",
    "\n",
    "options = {'server': 'https://jira.xxxx.com'}\n",
    "jira = JIRA(options, basic_auth=(config.username, config.password))"
   ]
  },
  {
   "cell_type": "code",
   "execution_count": null,
   "metadata": {},
   "outputs": [],
   "source": [
    "issue = jira.issue('xxxxxx')\n",
    "#issue.__dict__\n",
    "print(issue.fields.customfield_11601.value,issue.fields.timeoriginalestimate)"
   ]
  },
  {
   "cell_type": "code",
   "execution_count": null,
   "metadata": {},
   "outputs": [],
   "source": [
    "i=1\n",
    "\n",
    "while i<100:\n",
    "    today = datetime.now()\n",
    "    startTime=today-timedelta(days=i)\n",
    "    endTime=startTime+timedelta(days=1)\n",
    "    startTime=startTime.strftime(\"%Y/%m/%d\")\n",
    "    endTime=endTime.strftime(\"%Y/%m/%d\")\n",
    "    i=i+1    \n",
    "    j=1000\n",
    "    k=0\n",
    "    rowcount=1000\n",
    "    while rowcount>990:\n",
    "        \n",
    "        print(i,k,j,rowcount,startTime,endTime)\n",
    "        issues_in_proj = jira.search_issues('updatedDate > \"'+startTime+'\" AND updatedDate < \"'+endTime+'\" and project in (\"xxxxx\")',startAt=k*j,maxResults=1000)\n",
    "        cnxn = pyodbc.connect('DRIVER={SQL Server};SERVER=xxxx;DATABASE=xxx;Trusted_Connection=TRUE')\n",
    "        cursor = cnxn.cursor()\n",
    "        k=k+1\n",
    "        for issue in issues_in_proj:\n",
    "            print(issue.fields.customfield_11601.value,issue.fields.timeoriginalestimate)\n",
    "        rowcount=len(issues_in_proj)"
   ]
  },
  {
   "cell_type": "code",
   "execution_count": null,
   "metadata": {},
   "outputs": [],
   "source": [
    "\n",
    "issue = jira.issue('xxx-00000')\n",
    "#issue.update(fields={'customfield_11630': {'value': 'TEST'}})\n",
    "#issue.update(fields={'timetracking': {'originalEstimate': '20h'}})\n",
    "#issue.update(fields={'originalestimate': '72000'})\n",
    "#issue.update(originalestimate='72000')"
   ]
  },
  {
   "cell_type": "code",
   "execution_count": null,
   "metadata": {},
   "outputs": [],
   "source": [
    "today = datetime.now()\n",
    "endTime=time.strftime(\"%Y/%m/%d\")\n",
    "startTime=today-timedelta(days=2)\n",
    "startTime=startTime.strftime(\"%Y/%m/%d\")\n",
    "print(startTime,endTime)"
   ]
  },
  {
   "cell_type": "code",
   "execution_count": null,
   "metadata": {},
   "outputs": [],
   "source": [
    "#for issue in issues_in_proj:\n",
    "    #worklogs = jira.worklogs(issue.key)\n",
    "    #for worklog in worklogs:\n",
    "        #print(worklog.__dict__)"
   ]
  },
  {
   "cell_type": "code",
   "execution_count": null,
   "metadata": {},
   "outputs": [],
   "source": [
    "for issue in issues_in_proj:\n",
    "    try:\n",
    "        print(issue.fields.customfield_10005)\n",
    "    except:\n",
    "        pass"
   ]
  },
  {
   "cell_type": "code",
   "execution_count": null,
   "metadata": {},
   "outputs": [],
   "source": [
    "issues_in_proj = jira.search_issues('Sprint in openSprints()  and project=\"XXX\" order by createdDate',maxResults=99999)\n",
    "for issue in issues_in_proj:\n",
    "    print(issue)"
   ]
  },
  {
   "cell_type": "code",
   "execution_count": null,
   "metadata": {},
   "outputs": [],
   "source": [
    "#issue = jira.issue('XXXX')\n",
    "##issue.__dict__\n",
    "#print(issue.fields.customfield_11630.value)\n",
    "issueChange = jira.issue('XXX', expand='changelog')\n",
    "changelog = issueChange.changelog\n",
    "\n",
    "for history in changelog.histories:\n",
    "    for item in history.items:\n",
    "        if item.field == 'status':\n",
    "            #print history.author.key,history.created,item.fromString,item.toString\n",
    "            print history.id,history.author.key,history.created,item.fromString,item.toString\n",
    "            #print 'Date:' + history.created + ' From:' + item.fromString + ' To:' + item.toString"
   ]
  },
  {
   "cell_type": "code",
   "execution_count": null,
   "metadata": {},
   "outputs": [],
   "source": [
    "for issue in issues_in_proj:\n",
    "    for sprint in issue.fields.customfield_10005:\n",
    "        for x in sprint.split(','):\n",
    "            line=x.strip()\n",
    "            if line[:6]==\"name=C\":\n",
    "                print sprint"
   ]
  },
  {
   "cell_type": "code",
   "execution_count": null,
   "metadata": {},
   "outputs": [],
   "source": [
    "\n",
    "issue = jira.issue('XXXX')\n",
    "for sprint in issue.fields.customfield_10005:                   \n",
    "    for x in sprint.split(','):\n",
    "            line=x.strip()\n",
    "            print(line)\n",
    "            if line[:9]==\"startDate\":\n",
    "                startDate=line[10:len(line)]\n",
    "                if startDate==\"<null>\":\n",
    "                    startDate=None\n",
    "                else:\n",
    "                    startDate=dateutil.parser.parse(startDate)  \n",
    "                #print (startDate)\n",
    "            elif line[:7]==\"endDate\":\n",
    "                endDate=line[8:len(line)]\n",
    "                \n",
    "                if endDate==\"<null>\":\n",
    "                    endDate=None\n",
    "                else:\n",
    "                    endDate=dateutil.parser.parse(endDate) \n",
    "                    print(endDate)\n",
    "            elif line[:12]==\"completeDate\":\n",
    "                completeDate=line[13:len(line)]\n",
    "                if completeDate==\"<null>\":\n",
    "                    completeDate=None\n",
    "                else:\n",
    "                    completeDate=dateutil.parser.parse(completeDate)                    \n",
    "                #print (completeDate)\n",
    "            elif line[:5]==\"state\":\n",
    "                state=line[6:len(line)]\n",
    "                #print (state)\n",
    "            elif line[:4]==\"name\":\n",
    "                name=line[5:len(line)]\n",
    "                \n",
    "                #sprintType=name.split('|', 1)[0].rstrip()\n",
    "                #sprintName=name.split('|', 1)[1].lstrip()\n",
    "                #print (name)\n",
    "                #print(sprintName)\n",
    "                #print(sprintType)\n",
    "    print(issue.key,name,state,startDate,endDate,completeDate)\n",
    "\n",
    "#issue.__dict__\n",
    "#print(issue.fields.customfield_11007)\n",
    "#print(issue.fields.updated,issue.fields.created)"
   ]
  },
  {
   "cell_type": "code",
   "execution_count": null,
   "metadata": {},
   "outputs": [],
   "source": [
    "for issue in issues_in_proj:\n",
    "    for link in issue.fields.issuelinks:\n",
    "        if hasattr(link, \"outwardIssue\"):\n",
    "            outwardIssue = link.outwardIssue\n",
    "            print(str(issue) + \"\\tOutward: \" + outwardIssue.key)\n",
    "        if hasattr(link, \"inwardIssue\"):\n",
    "            inwardIssue = link.inwardIssue\n",
    "            print(str(issue) + \"\\tInward: \" + inwardIssue.key)\n",
    "#print(type(issue.fields.customfield_11628))\n",
    "#if hasattr(issue, 'fields.customfield_11628'):\n",
    "#    impactedDataSourceVar=issue.fields.customfield_11628 \n",
    "#    print(impactedDataSourceVar)\n",
    "#worklogs = jira.worklogs(issue.key)\n",
    "#for worklog in worklogs:\n",
    "    #print(worklog.updated)\n",
    "    #print(dateutil.parser.parse(worklog.updated))\n",
    "    #print(issue.key,worklog.timeSpent,datetime.datetime.fromtimestamp(worklog.updated).strftime('%Y-%m-%d %H:%M:%S'),worklog.updateAuthor.key)\n"
   ]
  },
  {
   "cell_type": "code",
   "execution_count": null,
   "metadata": {},
   "outputs": [],
   "source": [
    "issues_in_proj = jira.search_issues('issueFunction in workLogged(\"after '+startTime+' before '+endTime+'\") and project in (\"XXX\")',maxResults=99999)\n"
   ]
  },
  {
   "cell_type": "code",
   "execution_count": null,
   "metadata": {},
   "outputs": [],
   "source": [
    "import csv\n",
    "\n",
    "\n",
    "with open('jira.csv', 'wb') as csvfile:\n",
    "    delimiter=',',\n",
    "    lineterminator='\\n',\n",
    "    fieldnames = ['issue'\n",
    "                 , 'summary'\n",
    "                 , 'timeSpent'\n",
    "                 , 'timeEstimate'\n",
    "                 , 'originalTimeEstimate'                           \n",
    "                 , 'epicLink'\n",
    "                 ,'issueType'\n",
    "                 ,'status'\n",
    "                 ,'workLoggedID'\n",
    "                 ,'workUpdate'\n",
    "                 ,'workLogged'\n",
    "                 ,'workAuthor']\n",
    "    writer = csv.DictWriter(csvfile, fieldnames=fieldnames)\n",
    "\n",
    "    writer.writeheader()\n",
    "    for issue in issues_in_proj:\n",
    "        \n",
    "        implemnetationRoundVar=\"\"\n",
    "        if hasattr(issue, 'fields.customfield_11626'):\n",
    "            implemnetationRoundVar=issue.fields.customfield_11626\n",
    "        \n",
    "        try:\n",
    "            impactedDataSourceVar=issue.fields.customfield_11628\n",
    "        except:\n",
    "            impactedDataSourceVar=\"\"\n",
    "\n",
    "        customerContractIDVar=\"\"\n",
    "        if hasattr(issue, 'fields.customfield_11630'):\n",
    "            customerContractIDVar=issue.fields.customfield_11630   \n",
    "            \n",
    "        worklogs = jira.worklogs(issue.key)\n",
    "        for worklog in worklogs:\n",
    "            if worklog.created != worklog.updated:\n",
    "                print(issue.key,worklog.created,issue.key,worklog.updated)\n"
   ]
  },
  {
   "cell_type": "code",
   "execution_count": null,
   "metadata": {},
   "outputs": [],
   "source": [
    "#for issue in issues_in_proj:\n",
    "#    print issue,issue.fields.timespent \n",
    "#key, epi linK, status, issue type, summary"
   ]
  }
 ],
 "metadata": {
  "kernelspec": {
   "display_name": "Python 3 (ipykernel)",
   "language": "python",
   "name": "python3"
  },
  "language_info": {
   "codemirror_mode": {
    "name": "ipython",
    "version": 3
   },
   "file_extension": ".py",
   "mimetype": "text/x-python",
   "name": "python",
   "nbconvert_exporter": "python",
   "pygments_lexer": "ipython3",
   "version": "3.9.9"
  }
 },
 "nbformat": 4,
 "nbformat_minor": 1
}
